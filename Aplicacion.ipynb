{
 "cells": [
  {
   "cell_type": "markdown",
   "metadata": {},
   "source": [
    "# Ajuste del modelo $\\Lambda$CDM con Union2 supernova data"
   ]
  },
  {
   "cell_type": "markdown",
   "metadata": {},
   "source": [
    "Usaremos el AG para optimizar el estadistico Chi-Square statistic con el modelo:\n",
    "\n",
    "\\begin{equation*}\n",
    "\\frac{H(z)}{H(0)} = \\sqrt{(1 - \\Omega_m) + \\Omega_m (1 + z)^3}\n",
    "\\end{equation*}\n",
    "\n",
    "tomando $\\Omega_m $ como unica variable en el intervalo $[0, 1]$. "
   ]
  },
  {
   "cell_type": "code",
   "execution_count": 1,
   "metadata": {},
   "outputs": [],
   "source": [
    "import random\n",
    "import numpy as np\n",
    "import scipy.constants as cte\n",
    "from scipy.integrate import quad\n",
    "\n",
    "import matplotlib.pyplot as plt\n",
    "import seaborn as sns\n",
    "from deap import base, creator, tools\n",
    "\n",
    "import elitism\n",
    "import time"
   ]
  },
  {
   "cell_type": "code",
   "execution_count": 2,
   "metadata": {},
   "outputs": [],
   "source": [
    "# Cargamos los datos observacionales de las Supernovas, el archivo debe estar adjunto en la carpeta fuente.\n",
    "\n",
    "z_obs, m_obs, dm_obs_stat = np.loadtxt(\"sn_z_mu_dmu_union2.dat\", unpack=True)\n",
    "\n",
    "dm_obs = dm_obs_stat"
   ]
  },
  {
   "cell_type": "markdown",
   "metadata": {},
   "source": [
    "La distancia luminosidad será:\n",
    "\n",
    "\\begin{equation*}\n",
    "d_{L} = (1+z) \\int_{0}^{z} \\frac{H_0}{\\sqrt{(1 - \\Omega_m) + \\Omega_m (1 + z)^3}} dz\n",
    "\\end{equation*}\n",
    "\n",
    "El módulo de distancia:\n",
    "\n",
    "\\begin{equation*}\n",
    "\\mu = m -  M = 5 \\log {d_{L} + 25}\n",
    "\\end{equation*}\n",
    "\n",
    "Y serán codificadas como sigue:"
   ]
  },
  {
   "cell_type": "code",
   "execution_count": 3,
   "metadata": {},
   "outputs": [],
   "source": [
    "def luminosity_integrand(z, omgM):\n",
    "    Ez = np.sqrt((1 - omgM) + omgM * np.power(1 + z, 3))\n",
    "    return 1. / Ez\n",
    "\n",
    "def luminosity_distance(z, omgM):\n",
    "    h=0.72\n",
    "    integral, _ = quad(luminosity_integrand, 0, z, epsrel=1e-8, args=(omgM))\n",
    "    return (cte.c / 10. ** 5) / h * (1 + z) * integral\n",
    "\n",
    "def distance_modulus(z, omgM):\n",
    "    return 5. * np.log10(luminosity_distance(z, omgM)) + 25."
   ]
  },
  {
   "cell_type": "markdown",
   "metadata": {},
   "source": [
    "Definimos el estadistico Chi-square marginalizado: "
   ]
  },
  {
   "cell_type": "markdown",
   "metadata": {},
   "source": [
    "\\begin{equation*}\n",
    "    \\chi^2_{SN} = X - \\frac{Y^2}{Z} + \\log(\\frac{Z}{2\\pi}),    \n",
    "\\end{equation*}\n",
    "\n",
    "donde:\n",
    "\n",
    "\\begin{equation*}\n",
    "    X = \\sum^N_{i=1} \\frac{\\big[\\mu_{th}(z_i) - \\mu_i   \\big]^2}{\\sigma^2(z_i)},\n",
    "\\end{equation*}\n",
    "\n",
    "\\begin{equation*}\n",
    "    Y = \\sum^N_{i=1} \\frac{\\mu_{th}(z_i) - \\mu_i}{\\sigma^2(z_i)},\n",
    "\\end{equation*}\n",
    "\\begin{equation*}\n",
    "    Z = \\sum^N_{i=1} \\frac{1}{\\sigma^2(z_i)}.\n",
    "\\end{equation*}\n",
    "\n",
    "La distribución del parámetro es: \n",
    "\n",
    "\\begin{equation*}\n",
    "    P(\\theta_{i}) = \\mathcal{N} e^{-\\chi^2(\\theta_{i})/2} \n",
    "\\end{equation*}\n",
    "\n",
    "donde $\\mathcal{N}$ es una constante de normalización. Si $\\chi^2_{min}/(N-n) \\lesssim 1$ el ajuste es bueno y el modelo es consistente con los datos."
   ]
  },
  {
   "cell_type": "code",
   "execution_count": 4,
   "metadata": {},
   "outputs": [],
   "source": [
    "def X(omgM):\n",
    "    m_model = np.array([distance_modulus(z, omgM) for z in z_obs])\n",
    "    X_vec = np.power(((m_model - m_obs) / dm_obs), 2)\n",
    "    return X_vec.sum()\n",
    "\n",
    "def Y(omgM):\n",
    "    m_model = np.array([distance_modulus(z, omgM) for z in z_obs])\n",
    "    Y_vec = (m_model - m_obs) / dm_obs**2\n",
    "    return Y_vec.sum()\n",
    "\n",
    "def Z(omgM):\n",
    "    m_model = np.array([distance_modulus(z, omgM) for z in z_obs])\n",
    "    Z_vec = 1.0/dm_obs**2\n",
    "    return Z_vec.sum()\n",
    "\n",
    "def chisq(individual):\n",
    "    omgM=individual[0]\n",
    "\n",
    "    m_model = np.array([distance_modulus(z, omgM) for z in z_obs])\n",
    "    chisq_vec = X(omgM) - Y(omgM)**2/Z(omgM) + np.log10(Z(omgM)/2*np.pi)\n",
    "    f=chisq_vec.sum()\n",
    "    return f,"
   ]
  },
  {
   "cell_type": "markdown",
   "metadata": {},
   "source": [
    "Y preparamos el algoritmo genético"
   ]
  },
  {
   "cell_type": "code",
   "execution_count": 5,
   "metadata": {},
   "outputs": [],
   "source": [
    "DIMENSIONS = 1  \n",
    "BOUND_LOW, BOUND_UP = 0.0, 1.0 "
   ]
  },
  {
   "cell_type": "code",
   "execution_count": 6,
   "metadata": {},
   "outputs": [],
   "source": [
    "POPULATION_SIZE = 30\n",
    "P_CROSSOVER = 0.6  \n",
    "P_MUTATION = 0.4   \n",
    "MAX_GENERATIONS = 20\n",
    "HALL_OF_FAME_SIZE = 3   \n",
    "CROWDING_FACTOR = 20.0  "
   ]
  },
  {
   "cell_type": "code",
   "execution_count": 7,
   "metadata": {},
   "outputs": [],
   "source": [
    "toolbox = base.Toolbox()"
   ]
  },
  {
   "cell_type": "code",
   "execution_count": 8,
   "metadata": {},
   "outputs": [],
   "source": [
    "creator.create(\"FitnessMin\", base.Fitness, weights=(-1.0,))"
   ]
  },
  {
   "cell_type": "code",
   "execution_count": 9,
   "metadata": {},
   "outputs": [],
   "source": [
    "creator.create(\"Individual\", list, fitness=creator.FitnessMin)"
   ]
  },
  {
   "cell_type": "code",
   "execution_count": 10,
   "metadata": {},
   "outputs": [],
   "source": [
    "def randomFloat(low, up):\n",
    "    return [random.uniform(l, u) for l, u in zip([low] * DIMENSIONS, [up] * DIMENSIONS)]\n",
    "\n",
    "toolbox.register(\"attrFloat\", randomFloat, BOUND_LOW, BOUND_UP)\n",
    "\n",
    "toolbox.register(\"individualCreator\", tools.initIterate, creator.Individual, toolbox.attrFloat)\n",
    "\n",
    "toolbox.register(\"populationCreator\", tools.initRepeat, list, toolbox.individualCreator)"
   ]
  },
  {
   "cell_type": "markdown",
   "metadata": {},
   "source": [
    "Aquí introduciomos la función a optimizar"
   ]
  },
  {
   "cell_type": "code",
   "execution_count": 11,
   "metadata": {},
   "outputs": [],
   "source": [
    "toolbox.register(\"evaluate\", chisq)"
   ]
  },
  {
   "cell_type": "code",
   "execution_count": 12,
   "metadata": {},
   "outputs": [],
   "source": [
    "toolbox.register(\"select\", tools.selTournament, tournsize=2)\n",
    "toolbox.register(\"mate\", tools.cxSimulatedBinaryBounded, low=BOUND_LOW, up=BOUND_UP, eta=CROWDING_FACTOR)\n",
    "toolbox.register(\"mutate\", tools.mutPolynomialBounded, low=BOUND_LOW, up=BOUND_UP, eta=CROWDING_FACTOR, \n",
    "                 indpb=1.0/DIMENSIONS)"
   ]
  },
  {
   "cell_type": "code",
   "execution_count": 13,
   "metadata": {},
   "outputs": [],
   "source": [
    "def main():\n",
    "\n",
    "    population = toolbox.populationCreator(n=POPULATION_SIZE)\n",
    "\n",
    "    stats = tools.Statistics(lambda ind: ind.fitness.values)\n",
    "    stats.register(\"min\", np.min)\n",
    "    #stats.register(\"max\", np.max)\n",
    "    stats.register(\"avg\", np.mean)\n",
    "\n",
    "    hof = tools.HallOfFame(HALL_OF_FAME_SIZE)\n",
    "\n",
    "    population, logbook = elitism.eaSimpleWithElitism(population, toolbox, cxpb=P_CROSSOVER, mutpb=P_MUTATION,\n",
    "                                              ngen=MAX_GENERATIONS, stats=stats, halloffame=hof, verbose=True)\n",
    "\n",
    "    best = hof.items[0]\n",
    "    print(\"-- Best Individual = \", best)\n",
    "    print(\"-- Best Fitness = \", best.fitness.values[0])\n",
    "\n",
    "    minFitnessValues, meanFitnessValues = logbook.select(\"min\", \"avg\")\n",
    "\n",
    "    sns.set_style(\"whitegrid\")\n",
    "    plt.plot(minFitnessValues, color='red')\n",
    "    plt.plot(meanFitnessValues, color='green')\n",
    "    plt.xlabel('Generation')\n",
    "    plt.ylabel('Min / Average Fitness')\n",
    "    plt.title('Min and Average fitness over Generations')\n",
    "\n",
    "    plt.show()\n",
    "    \n",
    "    return best"
   ]
  },
  {
   "cell_type": "code",
   "execution_count": 14,
   "metadata": {},
   "outputs": [
    {
     "name": "stdout",
     "output_type": "stream",
     "text": [
      "gen\tnevals\tmin    \tavg    \n",
      "0  \t30    \t547.143\t722.072\n",
      "1  \t22    \t547.143\t623.973\n",
      "2  \t21    \t547.143\t585.798\n",
      "3  \t20    \t547.143\t558.447\n",
      "4  \t19    \t547.143\t553.755\n",
      "5  \t21    \t547.143\t550.25 \n",
      "6  \t22    \t547.143\t550.775\n",
      "7  \t25    \t547.143\t552.616\n",
      "8  \t21    \t547.143\t556.026\n",
      "9  \t19    \t547.143\t550.838\n",
      "10 \t25    \t547.143\t557.901\n",
      "11 \t16    \t547.143\t548.592\n",
      "12 \t15    \t547.143\t547.361\n",
      "13 \t22    \t547.143\t551.958\n",
      "14 \t18    \t547.143\t551.934\n",
      "15 \t27    \t547.143\t551.139\n",
      "16 \t23    \t547.143\t553.952\n",
      "17 \t22    \t547.143\t548.297\n",
      "18 \t21    \t547.143\t552.98 \n",
      "19 \t24    \t547.143\t550.43 \n",
      "20 \t20    \t547.143\t550.959\n",
      "-- Best Individual =  [0.27036908833595963]\n",
      "-- Best Fitness =  547.1434619697453\n"
     ]
    },
    {
     "data": {
      "image/png": "[encoded data removed]",
      "text/plain": [
       "<Figure size 432x288 with 1 Axes>"
      ]
     },
     "metadata": {},
     "output_type": "display_data"
    },
    {
     "name": "stdout",
     "output_type": "stream",
     "text": [
      "102.40934681892395\n"
     ]
    }
   ],
   "source": [
    "inicio = time.time()\n",
    "\n",
    "best_sol = main()\n",
    "\n",
    "fin = time.time()\n",
    "print(fin-inicio)"
   ]
  },
  {
   "cell_type": "code",
   "execution_count": 15,
   "metadata": {},
   "outputs": [],
   "source": [
    "best_sol = best_sol[0]"
   ]
  },
  {
   "cell_type": "markdown",
   "metadata": {},
   "source": [
    "Y graficamos el resultado junto con los datos"
   ]
  },
  {
   "cell_type": "code",
   "execution_count": 16,
   "metadata": {
    "scrolled": true
   },
   "outputs": [
    {
     "data": {
      "image/png": "[encoded data removed]",
      "text/plain": [
       "<Figure size 720x576 with 1 Axes>"
      ]
     },
     "metadata": {},
     "output_type": "display_data"
    }
   ],
   "source": [
    "zs = np.arange(0.01, 1.4, 0.01)\n",
    "distance_modulus_best_omgM = np.vectorize(lambda z : distance_modulus(z, best_sol))\n",
    "\n",
    "plt.figure(figsize=(10, 8))\n",
    "plt.xlabel(\"z\")\n",
    "plt.ylabel(r\"$\\mu = m - M$\")\n",
    "plt.plot(zs, distance_modulus_best_omgM(zs), label=\"modelo $h$\", linewidth=4)\n",
    "plt.errorbar(z_obs, m_obs, dm_obs, fmt='r.', label=r\"data\", alpha=0.5)\n",
    "plt.legend();\n",
    "#plt.savefig('resultado_1.png')"
   ]
  },
  {
   "cell_type": "code",
   "execution_count": null,
   "metadata": {},
   "outputs": [],
   "source": []
  }
 ],
 "metadata": {
  "kernelspec": {
   "display_name": "Python 3",
   "language": "python",
   "name": "python3"
  },
  "language_info": {
   "codemirror_mode": {
    "name": "ipython",
    "version": 3
   },
   "file_extension": ".py",
   "mimetype": "text/x-python",
   "name": "python",
   "nbconvert_exporter": "python",
   "pygments_lexer": "ipython3",
   "version": "3.7.3"
  }
 },
 "nbformat": 4,
 "nbformat_minor": 2
}
